{
 "cells": [
  {
   "cell_type": "markdown",
   "id": "fc59927a",
   "metadata": {
    "papermill": {
     "duration": 0.007513,
     "end_time": "2023-03-15T17:03:15.880719",
     "exception": false,
     "start_time": "2023-03-15T17:03:15.873206",
     "status": "completed"
    },
    "tags": []
   },
   "source": [
    "<h1 style=\"text-align:center;background-color:DarkTurquoise; color:Teal; font-size: 40px\">1. Setting Sail on the Recipe Hunt\n",
    "<img src=\"https://uploads-ssl.webflow.com/615bf2d50c4d2f10541ef9a1/61d48ffd38497b2c56571a0d_Univ.AI%20Logo_darkbg.svg\" style=\"width:200px;height:200px;\"></h1>\n",
    "<div class=\"alert alert-info\" role=\"alert\">\n",
    "  <b>Team :</b><br>\n",
    "  <span style=\"color: Teal; font-weight: bold; font-size: 40px\">The Sentient Chef </span><br>\n",
    "  <span style=\"color: LightSeaGreen; font-weight: bold; font-size: 20px;\">Univ.AI DS-1 C5 Final Project</span><br><br>\n",
    "  <b>Voyage Controller :</b><br>\n",
    "  <span style=\"color: LightSeaGreen; font-weight: bold;\">Shibani Budhraja </span><br><br>\n",
    "  <b>On Board Crews :</b><br>\n",
    "  <span style=\"color: LightSeaGreen; font-weight: bold;\">1. Swarnava Bhattacharjee</span><br>\n",
    "  <span style=\"color: LightSeaGreen; font-weight: bold;\">2. Karthik Rathod</span><br>\n",
    "  <span style=\"color: LightSeaGreen; font-weight: bold;\">3. Yamuna Katta</span><br>\n",
    "  <span style=\"color: LightSeaGreen; font-weight: bold;\">4. Venkatesh BY</span><br></div>"
   ]
  },
  {
   "cell_type": "markdown",
   "id": "9de211e5",
   "metadata": {
    "papermill": {
     "duration": 0.005618,
     "end_time": "2023-03-15T17:03:15.892386",
     "exception": false,
     "start_time": "2023-03-15T17:03:15.886768",
     "status": "completed"
    },
    "tags": []
   },
   "source": [
    "![World Cuisine](https://i.imgur.com/dBQzGts.jpeg) \n",
    "The above image is built with AI model, ©️The Sentient Chef "
   ]
  },
  {
   "cell_type": "markdown",
   "id": "41a746d2",
   "metadata": {
    "papermill": {
     "duration": 0.005545,
     "end_time": "2023-03-15T17:03:15.904136",
     "exception": false,
     "start_time": "2023-03-15T17:03:15.898591",
     "status": "completed"
    },
    "tags": []
   },
   "source": [
    "<div class=\"alert alert-danger\" role=\"alert\">\n",
    "  <b>This Notebook will be used to scrape the recipes from all around the world</b><br>\n",
    "  <span style=\"color: #BA4A00;\">This is a generalised notebook as for each country the notebook requries small changes through the different cells</span><br><br>\n",
    "</div>\n"
   ]
  },
  {
   "cell_type": "markdown",
   "id": "565520f1",
   "metadata": {
    "papermill": {
     "duration": 0.005964,
     "end_time": "2023-03-15T17:03:15.916576",
     "exception": false,
     "start_time": "2023-03-15T17:03:15.910612",
     "status": "completed"
    },
    "tags": []
   },
   "source": [
    "<div class=\"alert alert-warning\" role=\"alert\">\n",
    "    <b>Decisions:</b> We considered <a href=\"https://www.allrecipes.com/\"> Allrecipes.com</a> is a popular recipe website that has been in existence since 1997. Some advantages are:\n",
    "    <br><br>\n",
    "    <ul>\n",
    "        <li><b>Consistent website structure:</b> Allrecipes.com has a consistent website structure, which makes it easier for web scrapers to extract data from the website. The website uses standard HTML tags for recipe titles, ingredients, and instructions, which can be easily identified and parsed by web scraping tools.</li>\n",
    "        <li><b>No anti-scraping measures:</b> Allrecipes.com does not have any anti-scraping measures in place, unlike some other recipe websites. This means that web scraping can be performed without any restrictions or the need to use specialized tools or techniques.</li>\n",
    "        <li><b>Large recipe database:</b> Allrecipes.com has a large recipe database with a wide variety of recipes for different cuisines, occasions, and dietary needs. This makes it a valuable source of data for recipe-related research, analysis, and machine learning applications.</li>\n",
    "    </ul>\n",
    "</div> "
   ]
  },
  {
   "cell_type": "markdown",
   "id": "8c1b17ec",
   "metadata": {
    "papermill": {
     "duration": 0.005555,
     "end_time": "2023-03-15T17:03:15.928080",
     "exception": false,
     "start_time": "2023-03-15T17:03:15.922525",
     "status": "completed"
    },
    "tags": []
   },
   "source": [
    "<h1 style=\"text-align:center;background-color:#117864; color:white\" >Installing the recipe-scrapers lib that will scrape the recipe details for the site</h1>"
   ]
  },
  {
   "cell_type": "code",
   "execution_count": 1,
   "id": "5ef8d5ba",
   "metadata": {
    "execution": {
     "iopub.execute_input": "2023-03-15T17:03:15.942042Z",
     "iopub.status.busy": "2023-03-15T17:03:15.941532Z",
     "iopub.status.idle": "2023-03-15T17:03:34.043846Z",
     "shell.execute_reply": "2023-03-15T17:03:34.042532Z"
    },
    "papermill": {
     "duration": 18.112692,
     "end_time": "2023-03-15T17:03:34.046791",
     "exception": false,
     "start_time": "2023-03-15T17:03:15.934099",
     "status": "completed"
    },
    "tags": []
   },
   "outputs": [
    {
     "name": "stdout",
     "output_type": "stream",
     "text": [
      "Collecting recipe-scrapers\r\n",
      "  Downloading recipe_scrapers-14.33.0-py3-none-any.whl (159 kB)\r\n",
      "\u001b[2K     \u001b[90m━━━━━━━━━━━━━━━━━━━━━━━━━━━━━━━━━━━━━━━\u001b[0m \u001b[32m159.6/159.6 kB\u001b[0m \u001b[31m7.3 MB/s\u001b[0m eta \u001b[36m0:00:00\u001b[0m\r\n",
      "\u001b[?25hCollecting extruct>=0.8.0\r\n",
      "  Downloading extruct-0.14.0-py2.py3-none-any.whl (25 kB)\r\n",
      "Requirement already satisfied: requests>=2.19.1 in /opt/conda/lib/python3.7/site-packages (from recipe-scrapers) (2.28.1)\r\n",
      "Collecting isodate>=0.6.1\r\n",
      "  Downloading isodate-0.6.1-py2.py3-none-any.whl (41 kB)\r\n",
      "\u001b[2K     \u001b[90m━━━━━━━━━━━━━━━━━━━━━━━━━━━━━━━━━━━━━━━━\u001b[0m \u001b[32m41.7/41.7 kB\u001b[0m \u001b[31m3.8 MB/s\u001b[0m eta \u001b[36m0:00:00\u001b[0m\r\n",
      "\u001b[?25hRequirement already satisfied: beautifulsoup4>=4.10.0 in /opt/conda/lib/python3.7/site-packages (from recipe-scrapers) (4.11.1)\r\n",
      "Requirement already satisfied: soupsieve>1.2 in /opt/conda/lib/python3.7/site-packages (from beautifulsoup4>=4.10.0->recipe-scrapers) (2.3.1)\r\n",
      "Collecting w3lib\r\n",
      "  Downloading w3lib-2.1.1-py3-none-any.whl (21 kB)\r\n",
      "Collecting rdflib>=6.0.0\r\n",
      "  Downloading rdflib-6.2.0-py3-none-any.whl (500 kB)\r\n",
      "\u001b[2K     \u001b[90m━━━━━━━━━━━━━━━━━━━━━━━━━━━━━━━━━━━━━━\u001b[0m \u001b[32m500.3/500.3 kB\u001b[0m \u001b[31m24.9 MB/s\u001b[0m eta \u001b[36m0:00:00\u001b[0m\r\n",
      "\u001b[?25hRequirement already satisfied: lxml in /opt/conda/lib/python3.7/site-packages (from extruct>=0.8.0->recipe-scrapers) (4.9.2)\r\n",
      "Collecting html-text>=0.5.1\r\n",
      "  Downloading html_text-0.5.2-py2.py3-none-any.whl (7.5 kB)\r\n",
      "Collecting pyrdfa3\r\n",
      "  Downloading pyRdfa3-3.5.3-py3-none-any.whl (121 kB)\r\n",
      "\u001b[2K     \u001b[90m━━━━━━━━━━━━━━━━━━━━━━━━━━━━━━━━━━━━━━\u001b[0m \u001b[32m121.9/121.9 kB\u001b[0m \u001b[31m11.3 MB/s\u001b[0m eta \u001b[36m0:00:00\u001b[0m\r\n",
      "\u001b[?25hRequirement already satisfied: six in /opt/conda/lib/python3.7/site-packages (from extruct>=0.8.0->recipe-scrapers) (1.15.0)\r\n",
      "Collecting mf2py\r\n",
      "  Downloading mf2py-1.1.2.tar.gz (25 kB)\r\n",
      "  Preparing metadata (setup.py) ... \u001b[?25l-\b \bdone\r\n",
      "\u001b[?25hCollecting jstyleson\r\n",
      "  Downloading jstyleson-0.0.2.tar.gz (2.0 kB)\r\n",
      "  Preparing metadata (setup.py) ... \u001b[?25l-\b \bdone\r\n",
      "\u001b[?25hRequirement already satisfied: idna<4,>=2.5 in /opt/conda/lib/python3.7/site-packages (from requests>=2.19.1->recipe-scrapers) (3.3)\r\n",
      "Requirement already satisfied: charset-normalizer<3,>=2 in /opt/conda/lib/python3.7/site-packages (from requests>=2.19.1->recipe-scrapers) (2.1.0)\r\n",
      "Requirement already satisfied: urllib3<1.27,>=1.21.1 in /opt/conda/lib/python3.7/site-packages (from requests>=2.19.1->recipe-scrapers) (1.26.14)\r\n",
      "Requirement already satisfied: certifi>=2017.4.17 in /opt/conda/lib/python3.7/site-packages (from requests>=2.19.1->recipe-scrapers) (2022.12.7)\r\n",
      "Requirement already satisfied: importlib-metadata in /opt/conda/lib/python3.7/site-packages (from rdflib>=6.0.0->extruct>=0.8.0->recipe-scrapers) (6.0.0)\r\n",
      "Requirement already satisfied: setuptools in /opt/conda/lib/python3.7/site-packages (from rdflib>=6.0.0->extruct>=0.8.0->recipe-scrapers) (59.8.0)\r\n",
      "Requirement already satisfied: pyparsing in /opt/conda/lib/python3.7/site-packages (from rdflib>=6.0.0->extruct>=0.8.0->recipe-scrapers) (3.0.9)\r\n",
      "Requirement already satisfied: html5lib>=1.0.1 in /opt/conda/lib/python3.7/site-packages (from mf2py->extruct>=0.8.0->recipe-scrapers) (1.1)\r\n",
      "Requirement already satisfied: webencodings in /opt/conda/lib/python3.7/site-packages (from html5lib>=1.0.1->mf2py->extruct>=0.8.0->recipe-scrapers) (0.5.1)\r\n",
      "Requirement already satisfied: zipp>=0.5 in /opt/conda/lib/python3.7/site-packages (from importlib-metadata->rdflib>=6.0.0->extruct>=0.8.0->recipe-scrapers) (3.8.0)\r\n",
      "Requirement already satisfied: typing-extensions>=3.6.4 in /opt/conda/lib/python3.7/site-packages (from importlib-metadata->rdflib>=6.0.0->extruct>=0.8.0->recipe-scrapers) (4.1.1)\r\n",
      "Building wheels for collected packages: jstyleson, mf2py\r\n",
      "  Building wheel for jstyleson (setup.py) ... \u001b[?25l-\b \b\\\b \bdone\r\n",
      "\u001b[?25h  Created wheel for jstyleson: filename=jstyleson-0.0.2-py3-none-any.whl size=2402 sha256=1c8d169621b8db43f7a0e82d7c4a78f5029dfcc01a69533678e0a16d84e81969\r\n",
      "  Stored in directory: /root/.cache/pip/wheels/be/8e/03/d5962b9032cc1b638d1891a3bfbfdc6627cac531754f79ef23\r\n",
      "  Building wheel for mf2py (setup.py) ... \u001b[?25l-\b \b\\\b \bdone\r\n",
      "\u001b[?25h  Created wheel for mf2py: filename=mf2py-1.1.2-py3-none-any.whl size=23244 sha256=9e3540a132dd18f28c770940bcb29e054720d4dbbf7905766566becc8b30538f\r\n",
      "  Stored in directory: /root/.cache/pip/wheels/d9/47/72/d1f19d30e8dd2c06e7084d93ea90ab5ec60c6db488398c67db\r\n",
      "Successfully built jstyleson mf2py\r\n",
      "Installing collected packages: jstyleson, w3lib, isodate, html-text, rdflib, mf2py, pyrdfa3, extruct, recipe-scrapers\r\n",
      "Successfully installed extruct-0.14.0 html-text-0.5.2 isodate-0.6.1 jstyleson-0.0.2 mf2py-1.1.2 pyrdfa3-3.5.3 rdflib-6.2.0 recipe-scrapers-14.33.0 w3lib-2.1.1\r\n",
      "\u001b[33mWARNING: Running pip as the 'root' user can result in broken permissions and conflicting behaviour with the system package manager. It is recommended to use a virtual environment instead: https://pip.pypa.io/warnings/venv\u001b[0m\u001b[33m\r\n",
      "\u001b[0m"
     ]
    }
   ],
   "source": [
    "!pip install recipe-scrapers # Insalling scraping lib"
   ]
  },
  {
   "cell_type": "code",
   "execution_count": 2,
   "id": "55f26f01",
   "metadata": {
    "execution": {
     "iopub.execute_input": "2023-03-15T17:03:34.065014Z",
     "iopub.status.busy": "2023-03-15T17:03:34.064086Z",
     "iopub.status.idle": "2023-03-15T17:03:34.605051Z",
     "shell.execute_reply": "2023-03-15T17:03:34.603822Z"
    },
    "papermill": {
     "duration": 0.553043,
     "end_time": "2023-03-15T17:03:34.607812",
     "exception": false,
     "start_time": "2023-03-15T17:03:34.054769",
     "status": "completed"
    },
    "tags": []
   },
   "outputs": [],
   "source": [
    "# All the requried imports\n",
    "%matplotlib inline\n",
    "import numpy as np\n",
    "import matplotlib.pyplot as plt\n",
    "import pandas as pd\n",
    "import re\n",
    "import time, requests\n",
    "from bs4 import BeautifulSoup\n",
    "from recipe_scrapers import scrape_me\n",
    "import json"
   ]
  },
  {
   "cell_type": "markdown",
   "id": "ec96ea1d",
   "metadata": {
    "papermill": {
     "duration": 0.007378,
     "end_time": "2023-03-15T17:03:34.623192",
     "exception": false,
     "start_time": "2023-03-15T17:03:34.615814",
     "status": "completed"
    },
    "tags": []
   },
   "source": [
    "<h1 style=\"text-align:center;background-color:#117864; color:white;\">Here you have to manually create a list of all available URLs of a specific country/cuisine <a href=\"https://www.allrecipes.com/recipes/86/world-cuisine/\"> 🌐👆</a></h1>\n"
   ]
  },
  {
   "cell_type": "markdown",
   "id": "4c208ef7",
   "metadata": {
    "papermill": {
     "duration": 0.007237,
     "end_time": "2023-03-15T17:03:34.638109",
     "exception": false,
     "start_time": "2023-03-15T17:03:34.630872",
     "status": "completed"
    },
    "tags": []
   },
   "source": [
    "# Here we are scrapping all French cuisines"
   ]
  },
  {
   "cell_type": "code",
   "execution_count": 3,
   "id": "1fc604f0",
   "metadata": {
    "execution": {
     "iopub.execute_input": "2023-03-15T17:03:34.655862Z",
     "iopub.status.busy": "2023-03-15T17:03:34.655156Z",
     "iopub.status.idle": "2023-03-15T17:03:34.661541Z",
     "shell.execute_reply": "2023-03-15T17:03:34.660383Z"
    },
    "papermill": {
     "duration": 0.018224,
     "end_time": "2023-03-15T17:03:34.664068",
     "exception": false,
     "start_time": "2023-03-15T17:03:34.645844",
     "status": "completed"
    },
    "tags": []
   },
   "outputs": [],
   "source": [
    "URLs = ['https://www.allrecipes.com/recipes/721/world-cuisine/european/french/',\n",
    "       'https://www.allrecipes.com/recipes/16126/world-cuisine/european/french/french-bread/',\n",
    "       'https://www.allrecipes.com/recipes/17138/world-cuisine/european/french/main-dishes/',\n",
    "       'https://www.allrecipes.com/recipes/1857/world-cuisine/european/french/main-dishes/pork/',\n",
    "        'https://www.allrecipes.com/recipes/1858/world-cuisine/european/french/main-dishes/chicken/',\n",
    "        'https://www.allrecipes.com/recipes/1828/world-cuisine/european/french/desserts/',\n",
    "        \"https://www.allrecipes.com/recipes/1829/world-cuisine/european/french/soups-and-stews/\",\n",
    "        \"https://www.allrecipes.com/recipes/1848/world-cuisine/european/french/appetizers/\"]"
   ]
  },
  {
   "cell_type": "markdown",
   "id": "92a2736f",
   "metadata": {
    "papermill": {
     "duration": 0.007233,
     "end_time": "2023-03-15T17:03:34.678930",
     "exception": false,
     "start_time": "2023-03-15T17:03:34.671697",
     "status": "completed"
    },
    "tags": []
   },
   "source": [
    "<h1 style=\"text-align:center;background-color:#117864; color:white\" >The below loop will scrape all urls on individual recipes from above main sites.</h1>"
   ]
  },
  {
   "cell_type": "code",
   "execution_count": 4,
   "id": "4c6ec4b2",
   "metadata": {
    "execution": {
     "iopub.execute_input": "2023-03-15T17:03:34.697725Z",
     "iopub.status.busy": "2023-03-15T17:03:34.696883Z",
     "iopub.status.idle": "2023-03-15T17:03:41.927867Z",
     "shell.execute_reply": "2023-03-15T17:03:41.926516Z"
    },
    "papermill": {
     "duration": 7.243176,
     "end_time": "2023-03-15T17:03:41.930571",
     "exception": false,
     "start_time": "2023-03-15T17:03:34.687395",
     "status": "completed"
    },
    "tags": []
   },
   "outputs": [
    {
     "data": {
      "text/plain": [
       "8"
      ]
     },
     "execution_count": 4,
     "metadata": {},
     "output_type": "execute_result"
    }
   ],
   "source": [
    "recipes_urls ={}\n",
    "for u in URLs:\n",
    "    lst_var = []\n",
    "    url = u\n",
    "    res = requests.get(url).text\n",
    "    soup = BeautifulSoup(res,\"html.parser\")\n",
    "    name_ = soup.find_all(\"h1\", class_ =\"comp mntl-taxonomysc-heading mntl-text-block\")\n",
    "    try:\n",
    "        for i in range(len(soup.find_all('a', class_ =\"comp card--image-top mntl-card-list-items mntl-document-card mntl-card card card--no-image\"))):\n",
    "            url = soup.find_all('a', class_ =\"comp card--image-top mntl-card-list-items mntl-document-card mntl-card card card--no-image\")[i][\"href\"]\n",
    "            lst_var.append(url)\n",
    "    except:\n",
    "        pass\n",
    "    for i in range(len(soup.find_all('a', class_ =\"comp mntl-card-list-items mntl-document-card mntl-card card card--no-image\"))):\n",
    "        url = soup.find_all('a', class_ =\"comp mntl-card-list-items mntl-document-card mntl-card card card--no-image\")[i][\"href\"]\n",
    "        lst_var.append(url)\n",
    "    recipes_urls[name_[0].text[1:]] =lst_var\n",
    "len(recipes_urls)"
   ]
  },
  {
   "cell_type": "markdown",
   "id": "75aec6e6",
   "metadata": {
    "papermill": {
     "duration": 0.007577,
     "end_time": "2023-03-15T17:03:41.946145",
     "exception": false,
     "start_time": "2023-03-15T17:03:41.938568",
     "status": "completed"
    },
    "tags": []
   },
   "source": [
    "<h1 style=\"text-align:center;background-color:#117864; color:white\" >Saving the Dictionary in form of json file in formate \" < NAME >_recipes_urls\"</h1>"
   ]
  },
  {
   "cell_type": "code",
   "execution_count": 5,
   "id": "f24a24c3",
   "metadata": {
    "execution": {
     "iopub.execute_input": "2023-03-15T17:03:41.963362Z",
     "iopub.status.busy": "2023-03-15T17:03:41.962901Z",
     "iopub.status.idle": "2023-03-15T17:03:41.968627Z",
     "shell.execute_reply": "2023-03-15T17:03:41.967792Z"
    },
    "papermill": {
     "duration": 0.016883,
     "end_time": "2023-03-15T17:03:41.970757",
     "exception": false,
     "start_time": "2023-03-15T17:03:41.953874",
     "status": "completed"
    },
    "tags": []
   },
   "outputs": [],
   "source": [
    "with open('French_recipes_urls.json', 'w') as f:\n",
    "    json.dump(recipes_urls, f)"
   ]
  },
  {
   "cell_type": "markdown",
   "id": "20d791b3",
   "metadata": {
    "papermill": {
     "duration": 0.007568,
     "end_time": "2023-03-15T17:03:41.986263",
     "exception": false,
     "start_time": "2023-03-15T17:03:41.978695",
     "status": "completed"
    },
    "tags": []
   },
   "source": [
    "<h1 style=\"text-align:center;background-color:#117864; color:white\" >The below loop will gather data using the scrapping lib and append it to a dictionary</h1>"
   ]
  },
  {
   "cell_type": "code",
   "execution_count": 6,
   "id": "272f24bb",
   "metadata": {
    "execution": {
     "iopub.execute_input": "2023-03-15T17:03:42.004946Z",
     "iopub.status.busy": "2023-03-15T17:03:42.003411Z",
     "iopub.status.idle": "2023-03-15T17:13:21.870900Z",
     "shell.execute_reply": "2023-03-15T17:13:21.869943Z"
    },
    "papermill": {
     "duration": 579.879687,
     "end_time": "2023-03-15T17:13:21.873657",
     "exception": false,
     "start_time": "2023-03-15T17:03:41.993970",
     "status": "completed"
    },
    "tags": []
   },
   "outputs": [],
   "source": [
    "recipes = {}    \n",
    "i = 0\n",
    "for name,url_list in recipes_urls.items():\n",
    "    temp_dict = {}    \n",
    "    for url in url_list:\n",
    "        recipe = {}\n",
    "        scraper = scrape_me(url)\n",
    "        recipe[\"Contient\"] = \"Europe\"\n",
    "        recipe[\"Country_State\"] = \"France\"\n",
    "        try:\n",
    "            recipe[\"cuisine\"] = name\n",
    "        except:\n",
    "            recipe[\"cuisine\"] = float(\"nan\")\n",
    "        try:\n",
    "            recipe[\"title\"] = scraper.title()\n",
    "        except:\n",
    "            recipe[\"title\"] = float(\"nan\")\n",
    "        try:\n",
    "            recipe[\"URL\"] = url\n",
    "        except:\n",
    "            recipe[\"URL\"] = float(\"nan\")\n",
    "        try:\n",
    "            recipe[\"rating\"] = scraper.ratings()\n",
    "        except:\n",
    "            recipe[\"rating\"]  = float(\"nan\")\n",
    "        try:\n",
    "            recipe[\"total_time\"]= scraper.total_time()\n",
    "        except:\n",
    "            recipe[\"total_time\"] = float(\"nan\")\n",
    "        try:\n",
    "            recipe[\"prep_time\"] = scraper.prep_time()\n",
    "        except:\n",
    "            recipe[\"prep_time\"] = float(\"nan\")\n",
    "        try:\n",
    "            recipe[\"cook_time\"] = scraper.cook_time()\n",
    "        except:\n",
    "            recipe[\"cook_time\"] = float(\"nan\")\n",
    "        try:\n",
    "            recipe[\"description\"] = scraper.description()\n",
    "        except:\n",
    "            recipe[\"description\"] = float(\"nan\")\n",
    "        try:\n",
    "            recipe[\"ingredients\"] = scraper.ingredients()\n",
    "        except:\n",
    "            recipe[\"ingredients\"] = float(\"nan\")\n",
    "        try:\n",
    "            recipe[\"instructions\"] = scraper.instructions_list()\n",
    "        except:\n",
    "            recipe[\"instructions\"] = float(\"nan\")\n",
    "        try:\n",
    "            recipe[\"nutrients\"] = scraper.nutrients()\n",
    "        except:\n",
    "            recipe[\"nutrients\"] = float(\"nan\")\n",
    "        try:\n",
    "            recipe[\"serves\"] = scraper.yields()\n",
    "        except:\n",
    "            recipe[\"serves\"] = float(\"nan\")\n",
    "        try:\n",
    "            res = requests.get(url).text\n",
    "            soup = BeautifulSoup(res,\"html.parser\")\n",
    "            rate = soup.find(\"div\",class_ = \"comp type--squirrel mntl-recipe-review-bar__rating-count mntl-text-block\")\n",
    "            pattern = r'[0-9,]+'\n",
    "            s = rate.text\n",
    "            match = re.search(pattern, s)\n",
    "            if match:\n",
    "                number = int(match.group().replace(',', ''))\n",
    "            recipe[\"rating_count\"] = number\n",
    "        except:\n",
    "            recipe[\"rating_count\"] = 0\n",
    "        time.sleep(1)\n",
    "        recipes[f\"{i}\"] = recipe\n",
    "        i+=1"
   ]
  },
  {
   "cell_type": "markdown",
   "id": "15e59427",
   "metadata": {
    "papermill": {
     "duration": 0.007493,
     "end_time": "2023-03-15T17:13:21.889319",
     "exception": false,
     "start_time": "2023-03-15T17:13:21.881826",
     "status": "completed"
    },
    "tags": []
   },
   "source": [
    "<h1 style=\"text-align:center;background-color:#117864; color:white\" >From the dict a data frame will be created using the following name formate \"df_< NAME >\"</h1>"
   ]
  },
  {
   "cell_type": "code",
   "execution_count": 7,
   "id": "7ffa7856",
   "metadata": {
    "execution": {
     "iopub.execute_input": "2023-03-15T17:13:21.906889Z",
     "iopub.status.busy": "2023-03-15T17:13:21.905959Z",
     "iopub.status.idle": "2023-03-15T17:13:23.422100Z",
     "shell.execute_reply": "2023-03-15T17:13:23.421109Z"
    },
    "papermill": {
     "duration": 1.527928,
     "end_time": "2023-03-15T17:13:23.424882",
     "exception": false,
     "start_time": "2023-03-15T17:13:21.896954",
     "status": "completed"
    },
    "tags": []
   },
   "outputs": [],
   "source": [
    "df_France = pd.DataFrame()\n",
    "for data in recipes.keys():\n",
    "    df_France = df_France.append(recipes.get(data), ignore_index=True)"
   ]
  },
  {
   "cell_type": "code",
   "execution_count": 8,
   "id": "fa4585e1",
   "metadata": {
    "execution": {
     "iopub.execute_input": "2023-03-15T17:13:23.441890Z",
     "iopub.status.busy": "2023-03-15T17:13:23.441506Z",
     "iopub.status.idle": "2023-03-15T17:13:23.473528Z",
     "shell.execute_reply": "2023-03-15T17:13:23.472323Z"
    },
    "papermill": {
     "duration": 0.043418,
     "end_time": "2023-03-15T17:13:23.476049",
     "exception": false,
     "start_time": "2023-03-15T17:13:23.432631",
     "status": "completed"
    },
    "tags": []
   },
   "outputs": [
    {
     "data": {
      "text/html": [
       "<div>\n",
       "<style scoped>\n",
       "    .dataframe tbody tr th:only-of-type {\n",
       "        vertical-align: middle;\n",
       "    }\n",
       "\n",
       "    .dataframe tbody tr th {\n",
       "        vertical-align: top;\n",
       "    }\n",
       "\n",
       "    .dataframe thead th {\n",
       "        text-align: right;\n",
       "    }\n",
       "</style>\n",
       "<table border=\"1\" class=\"dataframe\">\n",
       "  <thead>\n",
       "    <tr style=\"text-align: right;\">\n",
       "      <th></th>\n",
       "      <th>Contient</th>\n",
       "      <th>Country_State</th>\n",
       "      <th>cuisine</th>\n",
       "      <th>title</th>\n",
       "      <th>URL</th>\n",
       "      <th>rating</th>\n",
       "      <th>total_time</th>\n",
       "      <th>prep_time</th>\n",
       "      <th>cook_time</th>\n",
       "      <th>description</th>\n",
       "      <th>ingredients</th>\n",
       "      <th>instructions</th>\n",
       "      <th>nutrients</th>\n",
       "      <th>serves</th>\n",
       "      <th>rating_count</th>\n",
       "    </tr>\n",
       "  </thead>\n",
       "  <tbody>\n",
       "    <tr>\n",
       "      <th>0</th>\n",
       "      <td>Europe</td>\n",
       "      <td>France</td>\n",
       "      <td>French Recipes</td>\n",
       "      <td>Meat Pie</td>\n",
       "      <td>https://www.allrecipes.com/recipe/76296/meat-pie/</td>\n",
       "      <td>4.5</td>\n",
       "      <td>50.0</td>\n",
       "      <td>25.0</td>\n",
       "      <td>25.0</td>\n",
       "      <td>This meat pie features beef, pork, and potato ...</td>\n",
       "      <td>[1 medium potato, peeled and cubed, 0.5 pound ...</td>\n",
       "      <td>[Preheat the oven to 425 degrees F (220 degree...</td>\n",
       "      <td>{'calories': '381 kcal', 'carbohydrateContent'...</td>\n",
       "      <td>8 servings</td>\n",
       "      <td>101.0</td>\n",
       "    </tr>\n",
       "    <tr>\n",
       "      <th>1</th>\n",
       "      <td>Europe</td>\n",
       "      <td>France</td>\n",
       "      <td>French Recipes</td>\n",
       "      <td>Sauce Vierge</td>\n",
       "      <td>https://www.allrecipes.com/recipe/8522527/sauc...</td>\n",
       "      <td>NaN</td>\n",
       "      <td>45.0</td>\n",
       "      <td>15.0</td>\n",
       "      <td>NaN</td>\n",
       "      <td>Sauce vierge is a French sauce with olive oil,...</td>\n",
       "      <td>[5 small tomatoes (such as Campari(R)), 2 tabl...</td>\n",
       "      <td>[Dice tomatoes, and place in a colander for ab...</td>\n",
       "      <td>{'calories': '209 kcal', 'carbohydrateContent'...</td>\n",
       "      <td>4 servings</td>\n",
       "      <td>0.0</td>\n",
       "    </tr>\n",
       "    <tr>\n",
       "      <th>2</th>\n",
       "      <td>Europe</td>\n",
       "      <td>France</td>\n",
       "      <td>French Recipes</td>\n",
       "      <td>Beans and Greens Tartine</td>\n",
       "      <td>https://www.allrecipes.com/recipe/8524473/bean...</td>\n",
       "      <td>NaN</td>\n",
       "      <td>65.0</td>\n",
       "      <td>30.0</td>\n",
       "      <td>35.0</td>\n",
       "      <td>Bacon, beans, Swiss chard, garlic, and cheese ...</td>\n",
       "      <td>[4 thick slices French bread, 2 tablespoons ol...</td>\n",
       "      <td>[Preheat the oven to 350 degrees F (175 degree...</td>\n",
       "      <td>{'calories': '514 kcal', 'carbohydrateContent'...</td>\n",
       "      <td>4 servings</td>\n",
       "      <td>0.0</td>\n",
       "    </tr>\n",
       "    <tr>\n",
       "      <th>3</th>\n",
       "      <td>Europe</td>\n",
       "      <td>France</td>\n",
       "      <td>French Recipes</td>\n",
       "      <td>Pâte Sucrée</td>\n",
       "      <td>https://www.allrecipes.com/recipe/8494742/pate...</td>\n",
       "      <td>NaN</td>\n",
       "      <td>275.0</td>\n",
       "      <td>20.0</td>\n",
       "      <td>NaN</td>\n",
       "      <td>Pâte sucrée is a classic, lightly sweet French...</td>\n",
       "      <td>[2 large egg yolks, 0.25 cup heavy whipping cr...</td>\n",
       "      <td>[Whisk together egg yolks, cream, and vanilla ...</td>\n",
       "      <td>{'calories': '324 kcal', 'carbohydrateContent'...</td>\n",
       "      <td>12 servings</td>\n",
       "      <td>0.0</td>\n",
       "    </tr>\n",
       "    <tr>\n",
       "      <th>4</th>\n",
       "      <td>Europe</td>\n",
       "      <td>France</td>\n",
       "      <td>French Recipes</td>\n",
       "      <td>Basic Crêpes</td>\n",
       "      <td>https://www.allrecipes.com/recipe/16383/basic-...</td>\n",
       "      <td>4.6</td>\n",
       "      <td>30.0</td>\n",
       "      <td>10.0</td>\n",
       "      <td>20.0</td>\n",
       "      <td>This crêpe recipe uses simple pantry ingredien...</td>\n",
       "      <td>[1 cup all-purpose flour, 2 large eggs, 0.5 cu...</td>\n",
       "      <td>[Whisk flour and eggs together in a large mixi...</td>\n",
       "      <td>{'calories': '216 kcal', 'carbohydrateContent'...</td>\n",
       "      <td>4 servings</td>\n",
       "      <td>4086.0</td>\n",
       "    </tr>\n",
       "  </tbody>\n",
       "</table>\n",
       "</div>"
      ],
      "text/plain": [
       "  Contient Country_State         cuisine                     title  \\\n",
       "0   Europe        France  French Recipes                  Meat Pie   \n",
       "1   Europe        France  French Recipes              Sauce Vierge   \n",
       "2   Europe        France  French Recipes  Beans and Greens Tartine   \n",
       "3   Europe        France  French Recipes               Pâte Sucrée   \n",
       "4   Europe        France  French Recipes              Basic Crêpes   \n",
       "\n",
       "                                                 URL  rating  total_time  \\\n",
       "0  https://www.allrecipes.com/recipe/76296/meat-pie/     4.5        50.0   \n",
       "1  https://www.allrecipes.com/recipe/8522527/sauc...     NaN        45.0   \n",
       "2  https://www.allrecipes.com/recipe/8524473/bean...     NaN        65.0   \n",
       "3  https://www.allrecipes.com/recipe/8494742/pate...     NaN       275.0   \n",
       "4  https://www.allrecipes.com/recipe/16383/basic-...     4.6        30.0   \n",
       "\n",
       "   prep_time  cook_time                                        description  \\\n",
       "0       25.0       25.0  This meat pie features beef, pork, and potato ...   \n",
       "1       15.0        NaN  Sauce vierge is a French sauce with olive oil,...   \n",
       "2       30.0       35.0  Bacon, beans, Swiss chard, garlic, and cheese ...   \n",
       "3       20.0        NaN  Pâte sucrée is a classic, lightly sweet French...   \n",
       "4       10.0       20.0  This crêpe recipe uses simple pantry ingredien...   \n",
       "\n",
       "                                         ingredients  \\\n",
       "0  [1 medium potato, peeled and cubed, 0.5 pound ...   \n",
       "1  [5 small tomatoes (such as Campari(R)), 2 tabl...   \n",
       "2  [4 thick slices French bread, 2 tablespoons ol...   \n",
       "3  [2 large egg yolks, 0.25 cup heavy whipping cr...   \n",
       "4  [1 cup all-purpose flour, 2 large eggs, 0.5 cu...   \n",
       "\n",
       "                                        instructions  \\\n",
       "0  [Preheat the oven to 425 degrees F (220 degree...   \n",
       "1  [Dice tomatoes, and place in a colander for ab...   \n",
       "2  [Preheat the oven to 350 degrees F (175 degree...   \n",
       "3  [Whisk together egg yolks, cream, and vanilla ...   \n",
       "4  [Whisk flour and eggs together in a large mixi...   \n",
       "\n",
       "                                           nutrients       serves  \\\n",
       "0  {'calories': '381 kcal', 'carbohydrateContent'...   8 servings   \n",
       "1  {'calories': '209 kcal', 'carbohydrateContent'...   4 servings   \n",
       "2  {'calories': '514 kcal', 'carbohydrateContent'...   4 servings   \n",
       "3  {'calories': '324 kcal', 'carbohydrateContent'...  12 servings   \n",
       "4  {'calories': '216 kcal', 'carbohydrateContent'...   4 servings   \n",
       "\n",
       "   rating_count  \n",
       "0         101.0  \n",
       "1           0.0  \n",
       "2           0.0  \n",
       "3           0.0  \n",
       "4        4086.0  "
      ]
     },
     "execution_count": 8,
     "metadata": {},
     "output_type": "execute_result"
    }
   ],
   "source": [
    "df_France.head(5)"
   ]
  },
  {
   "cell_type": "markdown",
   "id": "146b7b38",
   "metadata": {
    "papermill": {
     "duration": 0.007935,
     "end_time": "2023-03-15T17:13:23.492612",
     "exception": false,
     "start_time": "2023-03-15T17:13:23.484677",
     "status": "completed"
    },
    "tags": []
   },
   "source": [
    "<h1 style=\"text-align:center;background-color:#117864; color:white\" >Now we will be dropping all the duplicate recipes</h1>"
   ]
  },
  {
   "cell_type": "code",
   "execution_count": 9,
   "id": "e6688d10",
   "metadata": {
    "execution": {
     "iopub.execute_input": "2023-03-15T17:13:23.510941Z",
     "iopub.status.busy": "2023-03-15T17:13:23.510245Z",
     "iopub.status.idle": "2023-03-15T17:13:23.523848Z",
     "shell.execute_reply": "2023-03-15T17:13:23.522687Z"
    },
    "papermill": {
     "duration": 0.025861,
     "end_time": "2023-03-15T17:13:23.526601",
     "exception": false,
     "start_time": "2023-03-15T17:13:23.500740",
     "status": "completed"
    },
    "tags": []
   },
   "outputs": [],
   "source": [
    "df_France = df_France[~df_France['title'].isnull()]\n",
    "df_France.drop_duplicates(subset = 'title', inplace = True)\n",
    "df_France.reset_index(inplace=True)\n",
    "df_France.drop(['index'],axis=1,inplace=True)"
   ]
  },
  {
   "cell_type": "markdown",
   "id": "9b53588b",
   "metadata": {
    "papermill": {
     "duration": 0.007883,
     "end_time": "2023-03-15T17:13:23.542702",
     "exception": false,
     "start_time": "2023-03-15T17:13:23.534819",
     "status": "completed"
    },
    "tags": []
   },
   "source": [
    "<h1 style=\"text-align:center;background-color:#117864; color:white\" >Saving the Dictionary in form of json file in formate \"< NAME >_recipes\" </h1>"
   ]
  },
  {
   "cell_type": "code",
   "execution_count": 10,
   "id": "6110b7ab",
   "metadata": {
    "execution": {
     "iopub.execute_input": "2023-03-15T17:13:23.562367Z",
     "iopub.status.busy": "2023-03-15T17:13:23.561732Z",
     "iopub.status.idle": "2023-03-15T17:13:23.591594Z",
     "shell.execute_reply": "2023-03-15T17:13:23.590521Z"
    },
    "papermill": {
     "duration": 0.042524,
     "end_time": "2023-03-15T17:13:23.594455",
     "exception": false,
     "start_time": "2023-03-15T17:13:23.551931",
     "status": "completed"
    },
    "tags": []
   },
   "outputs": [],
   "source": [
    "with open('French_recipes.json', 'w') as f:\n",
    "    json.dump(recipes, f)"
   ]
  },
  {
   "cell_type": "markdown",
   "id": "36665f59",
   "metadata": {
    "papermill": {
     "duration": 0.007769,
     "end_time": "2023-03-15T17:13:23.610496",
     "exception": false,
     "start_time": "2023-03-15T17:13:23.602727",
     "status": "completed"
    },
    "tags": []
   },
   "source": [
    "<h1 style=\"text-align:center;background-color:#117864; color:white\" >Saving the dataFrame to csv file with same name as dataframe name</h1>"
   ]
  },
  {
   "cell_type": "code",
   "execution_count": 11,
   "id": "71581851",
   "metadata": {
    "execution": {
     "iopub.execute_input": "2023-03-15T17:13:23.628411Z",
     "iopub.status.busy": "2023-03-15T17:13:23.627973Z",
     "iopub.status.idle": "2023-03-15T17:13:23.650787Z",
     "shell.execute_reply": "2023-03-15T17:13:23.649831Z"
    },
    "papermill": {
     "duration": 0.034892,
     "end_time": "2023-03-15T17:13:23.653474",
     "exception": false,
     "start_time": "2023-03-15T17:13:23.618582",
     "status": "completed"
    },
    "tags": []
   },
   "outputs": [],
   "source": [
    "df_France.to_csv(\"df_France.csv\",index = False)"
   ]
  },
  {
   "cell_type": "markdown",
   "id": "6aca92b6",
   "metadata": {
    "papermill": {
     "duration": 0.007775,
     "end_time": "2023-03-15T17:13:23.669443",
     "exception": false,
     "start_time": "2023-03-15T17:13:23.661668",
     "status": "completed"
    },
    "tags": []
   },
   "source": [
    "<nav aria-label=\"The Sentient Chef\">\n",
    "  <ul class=\"pagination\">\n",
    "    <li class=\"page-item\"><a class=\"page-link\" href=\"https://www.kaggle.com/code/karthikrathod/the-sentient-chef-scrapping-notebook\">1. Setting Sail on the Recipe Hunt 📌</a></li>\n",
    "    <li class=\"page-item\"><a class=\"page-link\" href=\"https://www.kaggle.com/karthikrathod/the-sentient-chef-data-manipulation-analysis/\">2. Navigating the Choppy Waters of Preprocessing</a></li>\n",
    "    <li class=\"page-item\"><a class=\"page-link\" href=\"https://www.kaggle.com/karthikrathod/the-sentient-chef-eda\">3. Surveying the Seas of Recipe Data</a></li>\n",
    "    <li class=\"page-item\"><a class=\"page-link\" href=\"https://www.kaggle.com/swarnava007/the-sentient-chef-maps\">4. Mapping the Culinary World </a></li>\n",
    "    <li class=\"page-item\"><a class=\"page-link\" href=\"https://www.kaggle.com/code/karthikrathod/recipes-recommendation\">5. Sailing Towards Sentience</a></li>\n",
    "  </ul>\n",
    "</nav>"
   ]
  }
 ],
 "metadata": {
  "kernelspec": {
   "display_name": "Python 3",
   "language": "python",
   "name": "python3"
  },
  "language_info": {
   "codemirror_mode": {
    "name": "ipython",
    "version": 3
   },
   "file_extension": ".py",
   "mimetype": "text/x-python",
   "name": "python",
   "nbconvert_exporter": "python",
   "pygments_lexer": "ipython3",
   "version": "3.7.12"
  },
  "papermill": {
   "default_parameters": {},
   "duration": 618.19098,
   "end_time": "2023-03-15T17:13:24.501248",
   "environment_variables": {},
   "exception": null,
   "input_path": "__notebook__.ipynb",
   "output_path": "__notebook__.ipynb",
   "parameters": {},
   "start_time": "2023-03-15T17:03:06.310268",
   "version": "2.3.4"
  }
 },
 "nbformat": 4,
 "nbformat_minor": 5
}
